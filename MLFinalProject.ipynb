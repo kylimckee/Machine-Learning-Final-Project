{
 "cells": [
  {
   "cell_type": "code",
   "execution_count": 1,
   "metadata": {},
   "outputs": [
    {
     "data": {
      "text/html": [
       "<div>\n",
       "<style scoped>\n",
       "    .dataframe tbody tr th:only-of-type {\n",
       "        vertical-align: middle;\n",
       "    }\n",
       "\n",
       "    .dataframe tbody tr th {\n",
       "        vertical-align: top;\n",
       "    }\n",
       "\n",
       "    .dataframe thead th {\n",
       "        text-align: right;\n",
       "    }\n",
       "</style>\n",
       "<table border=\"1\" class=\"dataframe\">\n",
       "  <thead>\n",
       "    <tr style=\"text-align: right;\">\n",
       "      <th></th>\n",
       "      <th>behavior_sexualRisk</th>\n",
       "      <th>behavior_eating</th>\n",
       "      <th>behavior_personalHygine</th>\n",
       "      <th>intention_aggregation</th>\n",
       "      <th>intention_commitment</th>\n",
       "      <th>attitude_consistency</th>\n",
       "      <th>attitude_spontaneity</th>\n",
       "      <th>norm_significantPerson</th>\n",
       "      <th>norm_fulfillment</th>\n",
       "      <th>perception_vulnerability</th>\n",
       "      <th>perception_severity</th>\n",
       "      <th>motivation_strength</th>\n",
       "      <th>motivation_willingness</th>\n",
       "      <th>socialSupport_emotionality</th>\n",
       "      <th>socialSupport_appreciation</th>\n",
       "      <th>socialSupport_instrumental</th>\n",
       "      <th>empowerment_knowledge</th>\n",
       "      <th>empowerment_abilities</th>\n",
       "      <th>empowerment_desires</th>\n",
       "      <th>ca_cervix</th>\n",
       "    </tr>\n",
       "  </thead>\n",
       "  <tbody>\n",
       "    <tr>\n",
       "      <th>0</th>\n",
       "      <td>10</td>\n",
       "      <td>13</td>\n",
       "      <td>12</td>\n",
       "      <td>4</td>\n",
       "      <td>7</td>\n",
       "      <td>9</td>\n",
       "      <td>10</td>\n",
       "      <td>1</td>\n",
       "      <td>8</td>\n",
       "      <td>7</td>\n",
       "      <td>3</td>\n",
       "      <td>14</td>\n",
       "      <td>8</td>\n",
       "      <td>5</td>\n",
       "      <td>7</td>\n",
       "      <td>12</td>\n",
       "      <td>12</td>\n",
       "      <td>11</td>\n",
       "      <td>8</td>\n",
       "      <td>1</td>\n",
       "    </tr>\n",
       "    <tr>\n",
       "      <th>1</th>\n",
       "      <td>10</td>\n",
       "      <td>11</td>\n",
       "      <td>11</td>\n",
       "      <td>10</td>\n",
       "      <td>14</td>\n",
       "      <td>7</td>\n",
       "      <td>7</td>\n",
       "      <td>5</td>\n",
       "      <td>5</td>\n",
       "      <td>4</td>\n",
       "      <td>2</td>\n",
       "      <td>15</td>\n",
       "      <td>13</td>\n",
       "      <td>7</td>\n",
       "      <td>6</td>\n",
       "      <td>5</td>\n",
       "      <td>5</td>\n",
       "      <td>4</td>\n",
       "      <td>4</td>\n",
       "      <td>1</td>\n",
       "    </tr>\n",
       "    <tr>\n",
       "      <th>2</th>\n",
       "      <td>10</td>\n",
       "      <td>15</td>\n",
       "      <td>3</td>\n",
       "      <td>2</td>\n",
       "      <td>14</td>\n",
       "      <td>8</td>\n",
       "      <td>10</td>\n",
       "      <td>1</td>\n",
       "      <td>4</td>\n",
       "      <td>7</td>\n",
       "      <td>2</td>\n",
       "      <td>7</td>\n",
       "      <td>3</td>\n",
       "      <td>3</td>\n",
       "      <td>6</td>\n",
       "      <td>11</td>\n",
       "      <td>3</td>\n",
       "      <td>3</td>\n",
       "      <td>15</td>\n",
       "      <td>1</td>\n",
       "    </tr>\n",
       "    <tr>\n",
       "      <th>3</th>\n",
       "      <td>10</td>\n",
       "      <td>11</td>\n",
       "      <td>10</td>\n",
       "      <td>10</td>\n",
       "      <td>15</td>\n",
       "      <td>7</td>\n",
       "      <td>7</td>\n",
       "      <td>1</td>\n",
       "      <td>5</td>\n",
       "      <td>4</td>\n",
       "      <td>2</td>\n",
       "      <td>15</td>\n",
       "      <td>13</td>\n",
       "      <td>7</td>\n",
       "      <td>4</td>\n",
       "      <td>4</td>\n",
       "      <td>4</td>\n",
       "      <td>4</td>\n",
       "      <td>4</td>\n",
       "      <td>1</td>\n",
       "    </tr>\n",
       "    <tr>\n",
       "      <th>4</th>\n",
       "      <td>8</td>\n",
       "      <td>11</td>\n",
       "      <td>7</td>\n",
       "      <td>8</td>\n",
       "      <td>10</td>\n",
       "      <td>7</td>\n",
       "      <td>8</td>\n",
       "      <td>1</td>\n",
       "      <td>5</td>\n",
       "      <td>3</td>\n",
       "      <td>2</td>\n",
       "      <td>15</td>\n",
       "      <td>5</td>\n",
       "      <td>3</td>\n",
       "      <td>6</td>\n",
       "      <td>12</td>\n",
       "      <td>5</td>\n",
       "      <td>4</td>\n",
       "      <td>7</td>\n",
       "      <td>1</td>\n",
       "    </tr>\n",
       "  </tbody>\n",
       "</table>\n",
       "</div>"
      ],
      "text/plain": [
       "   behavior_sexualRisk  behavior_eating  behavior_personalHygine  \\\n",
       "0                   10               13                       12   \n",
       "1                   10               11                       11   \n",
       "2                   10               15                        3   \n",
       "3                   10               11                       10   \n",
       "4                    8               11                        7   \n",
       "\n",
       "   intention_aggregation  intention_commitment  attitude_consistency  \\\n",
       "0                      4                     7                     9   \n",
       "1                     10                    14                     7   \n",
       "2                      2                    14                     8   \n",
       "3                     10                    15                     7   \n",
       "4                      8                    10                     7   \n",
       "\n",
       "   attitude_spontaneity  norm_significantPerson  norm_fulfillment  \\\n",
       "0                    10                       1                 8   \n",
       "1                     7                       5                 5   \n",
       "2                    10                       1                 4   \n",
       "3                     7                       1                 5   \n",
       "4                     8                       1                 5   \n",
       "\n",
       "   perception_vulnerability  perception_severity  motivation_strength  \\\n",
       "0                         7                    3                   14   \n",
       "1                         4                    2                   15   \n",
       "2                         7                    2                    7   \n",
       "3                         4                    2                   15   \n",
       "4                         3                    2                   15   \n",
       "\n",
       "   motivation_willingness  socialSupport_emotionality  \\\n",
       "0                       8                           5   \n",
       "1                      13                           7   \n",
       "2                       3                           3   \n",
       "3                      13                           7   \n",
       "4                       5                           3   \n",
       "\n",
       "   socialSupport_appreciation  socialSupport_instrumental  \\\n",
       "0                           7                          12   \n",
       "1                           6                           5   \n",
       "2                           6                          11   \n",
       "3                           4                           4   \n",
       "4                           6                          12   \n",
       "\n",
       "   empowerment_knowledge  empowerment_abilities  empowerment_desires  \\\n",
       "0                     12                     11                    8   \n",
       "1                      5                      4                    4   \n",
       "2                      3                      3                   15   \n",
       "3                      4                      4                    4   \n",
       "4                      5                      4                    7   \n",
       "\n",
       "   ca_cervix  \n",
       "0          1  \n",
       "1          1  \n",
       "2          1  \n",
       "3          1  \n",
       "4          1  "
      ]
     },
     "execution_count": 1,
     "metadata": {},
     "output_type": "execute_result"
    }
   ],
   "source": [
    "#Import numpy and pandas\n",
    "import numpy as np\n",
    "import pandas as pd\n",
    "\n",
    "#Read the data and head it to make sure you have properly read it.\n",
    "cc_data = pd.read_csv(\"cc_data.csv\")\n",
    "cc_data.head(5)"
   ]
  },
  {
   "cell_type": "code",
   "execution_count": 2,
   "metadata": {},
   "outputs": [
    {
     "name": "stdout",
     "output_type": "stream",
     "text": [
      "The shape of the data is: (72, 20)\n"
     ]
    }
   ],
   "source": [
    "#Analyze the shape of the dataset you are utilizing.\n",
    "print('The shape of the data is:', cc_data.shape)"
   ]
  },
  {
   "cell_type": "code",
   "execution_count": 3,
   "metadata": {},
   "outputs": [
    {
     "data": {
      "text/html": [
       "<div>\n",
       "<style scoped>\n",
       "    .dataframe tbody tr th:only-of-type {\n",
       "        vertical-align: middle;\n",
       "    }\n",
       "\n",
       "    .dataframe tbody tr th {\n",
       "        vertical-align: top;\n",
       "    }\n",
       "\n",
       "    .dataframe thead th {\n",
       "        text-align: right;\n",
       "    }\n",
       "</style>\n",
       "<table border=\"1\" class=\"dataframe\">\n",
       "  <thead>\n",
       "    <tr style=\"text-align: right;\">\n",
       "      <th></th>\n",
       "      <th>behavior_sexualRisk</th>\n",
       "      <th>behavior_eating</th>\n",
       "      <th>behavior_personalHygine</th>\n",
       "      <th>intention_aggregation</th>\n",
       "      <th>intention_commitment</th>\n",
       "      <th>attitude_consistency</th>\n",
       "      <th>attitude_spontaneity</th>\n",
       "      <th>norm_significantPerson</th>\n",
       "      <th>norm_fulfillment</th>\n",
       "      <th>perception_vulnerability</th>\n",
       "      <th>perception_severity</th>\n",
       "      <th>motivation_strength</th>\n",
       "      <th>motivation_willingness</th>\n",
       "      <th>socialSupport_emotionality</th>\n",
       "      <th>socialSupport_appreciation</th>\n",
       "      <th>socialSupport_instrumental</th>\n",
       "      <th>empowerment_knowledge</th>\n",
       "      <th>empowerment_abilities</th>\n",
       "      <th>empowerment_desires</th>\n",
       "      <th>ca_cervix</th>\n",
       "    </tr>\n",
       "  </thead>\n",
       "  <tbody>\n",
       "    <tr>\n",
       "      <th>count</th>\n",
       "      <td>72.000000</td>\n",
       "      <td>72.000000</td>\n",
       "      <td>72.000000</td>\n",
       "      <td>72.000000</td>\n",
       "      <td>72.000000</td>\n",
       "      <td>72.000000</td>\n",
       "      <td>72.000000</td>\n",
       "      <td>72.000000</td>\n",
       "      <td>72.000000</td>\n",
       "      <td>72.000000</td>\n",
       "      <td>72.000000</td>\n",
       "      <td>72.000000</td>\n",
       "      <td>72.000000</td>\n",
       "      <td>72.000000</td>\n",
       "      <td>72.000000</td>\n",
       "      <td>72.000000</td>\n",
       "      <td>72.000000</td>\n",
       "      <td>72.000000</td>\n",
       "      <td>72.000000</td>\n",
       "      <td>72.000000</td>\n",
       "    </tr>\n",
       "    <tr>\n",
       "      <th>mean</th>\n",
       "      <td>9.666667</td>\n",
       "      <td>12.791667</td>\n",
       "      <td>11.083333</td>\n",
       "      <td>7.902778</td>\n",
       "      <td>13.347222</td>\n",
       "      <td>7.180556</td>\n",
       "      <td>8.611111</td>\n",
       "      <td>3.125000</td>\n",
       "      <td>8.486111</td>\n",
       "      <td>8.513889</td>\n",
       "      <td>5.388889</td>\n",
       "      <td>12.652778</td>\n",
       "      <td>9.694444</td>\n",
       "      <td>8.097222</td>\n",
       "      <td>6.166667</td>\n",
       "      <td>10.375000</td>\n",
       "      <td>10.541667</td>\n",
       "      <td>9.319444</td>\n",
       "      <td>10.277778</td>\n",
       "      <td>0.291667</td>\n",
       "    </tr>\n",
       "    <tr>\n",
       "      <th>std</th>\n",
       "      <td>1.186782</td>\n",
       "      <td>2.361293</td>\n",
       "      <td>3.033847</td>\n",
       "      <td>2.738148</td>\n",
       "      <td>2.374511</td>\n",
       "      <td>1.522844</td>\n",
       "      <td>1.515698</td>\n",
       "      <td>1.845722</td>\n",
       "      <td>4.907577</td>\n",
       "      <td>4.275686</td>\n",
       "      <td>3.400727</td>\n",
       "      <td>3.207209</td>\n",
       "      <td>4.130406</td>\n",
       "      <td>4.243171</td>\n",
       "      <td>2.897303</td>\n",
       "      <td>4.316485</td>\n",
       "      <td>4.366768</td>\n",
       "      <td>4.181874</td>\n",
       "      <td>4.482273</td>\n",
       "      <td>0.457719</td>\n",
       "    </tr>\n",
       "    <tr>\n",
       "      <th>min</th>\n",
       "      <td>2.000000</td>\n",
       "      <td>3.000000</td>\n",
       "      <td>3.000000</td>\n",
       "      <td>2.000000</td>\n",
       "      <td>6.000000</td>\n",
       "      <td>2.000000</td>\n",
       "      <td>4.000000</td>\n",
       "      <td>1.000000</td>\n",
       "      <td>3.000000</td>\n",
       "      <td>3.000000</td>\n",
       "      <td>2.000000</td>\n",
       "      <td>3.000000</td>\n",
       "      <td>3.000000</td>\n",
       "      <td>3.000000</td>\n",
       "      <td>2.000000</td>\n",
       "      <td>3.000000</td>\n",
       "      <td>3.000000</td>\n",
       "      <td>3.000000</td>\n",
       "      <td>3.000000</td>\n",
       "      <td>0.000000</td>\n",
       "    </tr>\n",
       "    <tr>\n",
       "      <th>25%</th>\n",
       "      <td>10.000000</td>\n",
       "      <td>11.000000</td>\n",
       "      <td>9.000000</td>\n",
       "      <td>6.000000</td>\n",
       "      <td>11.000000</td>\n",
       "      <td>6.000000</td>\n",
       "      <td>8.000000</td>\n",
       "      <td>1.000000</td>\n",
       "      <td>3.000000</td>\n",
       "      <td>5.000000</td>\n",
       "      <td>2.000000</td>\n",
       "      <td>11.000000</td>\n",
       "      <td>7.000000</td>\n",
       "      <td>3.000000</td>\n",
       "      <td>3.750000</td>\n",
       "      <td>6.750000</td>\n",
       "      <td>7.000000</td>\n",
       "      <td>5.000000</td>\n",
       "      <td>6.750000</td>\n",
       "      <td>0.000000</td>\n",
       "    </tr>\n",
       "    <tr>\n",
       "      <th>50%</th>\n",
       "      <td>10.000000</td>\n",
       "      <td>13.000000</td>\n",
       "      <td>11.000000</td>\n",
       "      <td>10.000000</td>\n",
       "      <td>15.000000</td>\n",
       "      <td>7.000000</td>\n",
       "      <td>9.000000</td>\n",
       "      <td>3.000000</td>\n",
       "      <td>7.000000</td>\n",
       "      <td>8.000000</td>\n",
       "      <td>4.000000</td>\n",
       "      <td>14.000000</td>\n",
       "      <td>11.000000</td>\n",
       "      <td>9.000000</td>\n",
       "      <td>6.500000</td>\n",
       "      <td>12.000000</td>\n",
       "      <td>12.000000</td>\n",
       "      <td>10.000000</td>\n",
       "      <td>11.000000</td>\n",
       "      <td>0.000000</td>\n",
       "    </tr>\n",
       "    <tr>\n",
       "      <th>75%</th>\n",
       "      <td>10.000000</td>\n",
       "      <td>15.000000</td>\n",
       "      <td>14.000000</td>\n",
       "      <td>10.000000</td>\n",
       "      <td>15.000000</td>\n",
       "      <td>8.000000</td>\n",
       "      <td>10.000000</td>\n",
       "      <td>5.000000</td>\n",
       "      <td>14.000000</td>\n",
       "      <td>13.000000</td>\n",
       "      <td>9.000000</td>\n",
       "      <td>15.000000</td>\n",
       "      <td>13.000000</td>\n",
       "      <td>11.250000</td>\n",
       "      <td>9.000000</td>\n",
       "      <td>14.250000</td>\n",
       "      <td>15.000000</td>\n",
       "      <td>13.000000</td>\n",
       "      <td>15.000000</td>\n",
       "      <td>1.000000</td>\n",
       "    </tr>\n",
       "    <tr>\n",
       "      <th>max</th>\n",
       "      <td>10.000000</td>\n",
       "      <td>15.000000</td>\n",
       "      <td>15.000000</td>\n",
       "      <td>10.000000</td>\n",
       "      <td>15.000000</td>\n",
       "      <td>10.000000</td>\n",
       "      <td>10.000000</td>\n",
       "      <td>5.000000</td>\n",
       "      <td>15.000000</td>\n",
       "      <td>15.000000</td>\n",
       "      <td>10.000000</td>\n",
       "      <td>15.000000</td>\n",
       "      <td>15.000000</td>\n",
       "      <td>15.000000</td>\n",
       "      <td>10.000000</td>\n",
       "      <td>15.000000</td>\n",
       "      <td>15.000000</td>\n",
       "      <td>15.000000</td>\n",
       "      <td>15.000000</td>\n",
       "      <td>1.000000</td>\n",
       "    </tr>\n",
       "  </tbody>\n",
       "</table>\n",
       "</div>"
      ],
      "text/plain": [
       "       behavior_sexualRisk  behavior_eating  behavior_personalHygine  \\\n",
       "count            72.000000        72.000000                72.000000   \n",
       "mean              9.666667        12.791667                11.083333   \n",
       "std               1.186782         2.361293                 3.033847   \n",
       "min               2.000000         3.000000                 3.000000   \n",
       "25%              10.000000        11.000000                 9.000000   \n",
       "50%              10.000000        13.000000                11.000000   \n",
       "75%              10.000000        15.000000                14.000000   \n",
       "max              10.000000        15.000000                15.000000   \n",
       "\n",
       "       intention_aggregation  intention_commitment  attitude_consistency  \\\n",
       "count              72.000000             72.000000             72.000000   \n",
       "mean                7.902778             13.347222              7.180556   \n",
       "std                 2.738148              2.374511              1.522844   \n",
       "min                 2.000000              6.000000              2.000000   \n",
       "25%                 6.000000             11.000000              6.000000   \n",
       "50%                10.000000             15.000000              7.000000   \n",
       "75%                10.000000             15.000000              8.000000   \n",
       "max                10.000000             15.000000             10.000000   \n",
       "\n",
       "       attitude_spontaneity  norm_significantPerson  norm_fulfillment  \\\n",
       "count             72.000000               72.000000         72.000000   \n",
       "mean               8.611111                3.125000          8.486111   \n",
       "std                1.515698                1.845722          4.907577   \n",
       "min                4.000000                1.000000          3.000000   \n",
       "25%                8.000000                1.000000          3.000000   \n",
       "50%                9.000000                3.000000          7.000000   \n",
       "75%               10.000000                5.000000         14.000000   \n",
       "max               10.000000                5.000000         15.000000   \n",
       "\n",
       "       perception_vulnerability  perception_severity  motivation_strength  \\\n",
       "count                 72.000000            72.000000            72.000000   \n",
       "mean                   8.513889             5.388889            12.652778   \n",
       "std                    4.275686             3.400727             3.207209   \n",
       "min                    3.000000             2.000000             3.000000   \n",
       "25%                    5.000000             2.000000            11.000000   \n",
       "50%                    8.000000             4.000000            14.000000   \n",
       "75%                   13.000000             9.000000            15.000000   \n",
       "max                   15.000000            10.000000            15.000000   \n",
       "\n",
       "       motivation_willingness  socialSupport_emotionality  \\\n",
       "count               72.000000                   72.000000   \n",
       "mean                 9.694444                    8.097222   \n",
       "std                  4.130406                    4.243171   \n",
       "min                  3.000000                    3.000000   \n",
       "25%                  7.000000                    3.000000   \n",
       "50%                 11.000000                    9.000000   \n",
       "75%                 13.000000                   11.250000   \n",
       "max                 15.000000                   15.000000   \n",
       "\n",
       "       socialSupport_appreciation  socialSupport_instrumental  \\\n",
       "count                   72.000000                   72.000000   \n",
       "mean                     6.166667                   10.375000   \n",
       "std                      2.897303                    4.316485   \n",
       "min                      2.000000                    3.000000   \n",
       "25%                      3.750000                    6.750000   \n",
       "50%                      6.500000                   12.000000   \n",
       "75%                      9.000000                   14.250000   \n",
       "max                     10.000000                   15.000000   \n",
       "\n",
       "       empowerment_knowledge  empowerment_abilities  empowerment_desires  \\\n",
       "count              72.000000              72.000000            72.000000   \n",
       "mean               10.541667               9.319444            10.277778   \n",
       "std                 4.366768               4.181874             4.482273   \n",
       "min                 3.000000               3.000000             3.000000   \n",
       "25%                 7.000000               5.000000             6.750000   \n",
       "50%                12.000000              10.000000            11.000000   \n",
       "75%                15.000000              13.000000            15.000000   \n",
       "max                15.000000              15.000000            15.000000   \n",
       "\n",
       "       ca_cervix  \n",
       "count  72.000000  \n",
       "mean    0.291667  \n",
       "std     0.457719  \n",
       "min     0.000000  \n",
       "25%     0.000000  \n",
       "50%     0.000000  \n",
       "75%     1.000000  \n",
       "max     1.000000  "
      ]
     },
     "execution_count": 3,
     "metadata": {},
     "output_type": "execute_result"
    }
   ],
   "source": [
    "#Calculate descriptive statistics for each column of the dataset.\n",
    "cc_data.describe()"
   ]
  },
  {
   "cell_type": "code",
   "execution_count": 4,
   "metadata": {},
   "outputs": [],
   "source": [
    "#Define X and Y for the data set.\n",
    "Y = np.array(cc_data[['ca_cervix']])\n",
    "X = np.array(cc_data[['behavior_sexualRisk', 'behavior_eating', 'behavior_personalHygine', 'intention_aggregation', 'intention_commitment', 'attitude_consistency', 'attitude_spontaneity', 'norm_significantPerson', 'norm_fulfillment', 'perception_vulnerability', 'perception_severity', 'motivation_strength', 'motivation_willingness', 'socialSupport_emotionality', 'socialSupport_appreciation', 'socialSupport_instrumental', 'empowerment_knowledge', 'empowerment_abilities', 'empowerment_desires']])"
   ]
  },
  {
   "cell_type": "code",
   "execution_count": 6,
   "metadata": {},
   "outputs": [],
   "source": [
    "#Create a testing and training set. The training set should include 75% of the data points.\n",
    "from sklearn.model_selection import train_test_split\n",
    "\n",
    "X_train, X_test, Y_train, Y_test = train_test_split(X, Y, train_size=0.75, random_state=42)"
   ]
  },
  {
   "cell_type": "code",
   "execution_count": 7,
   "metadata": {},
   "outputs": [
    {
     "data": {
      "text/plain": [
       "5"
      ]
     },
     "execution_count": 7,
     "metadata": {},
     "output_type": "execute_result"
    }
   ],
   "source": [
    "#Perform a Stratified K-Folds cross-validator to increase generalizability of assay.\n",
    "from sklearn.model_selection import StratifiedKFold\n",
    "SK = StratifiedKFold(n_splits=5)\n",
    "SK.get_n_splits(X, Y)"
   ]
  },
  {
   "cell_type": "code",
   "execution_count": 8,
   "metadata": {},
   "outputs": [
    {
     "name": "stdout",
     "output_type": "stream",
     "text": [
      "StratifiedKFold(n_splits=5, random_state=None, shuffle=False)\n"
     ]
    }
   ],
   "source": [
    "#Analyze the Stratified K-Folds cross-validator parameters.\n",
    "print(SK)"
   ]
  },
  {
   "cell_type": "code",
   "execution_count": 18,
   "metadata": {
    "scrolled": true
   },
   "outputs": [
    {
     "name": "stdout",
     "output_type": "stream",
     "text": [
      "Training set: [ 5  6  7  8  9 10 11 12 13 14 15 16 17 18 19 20 31 32 33 34 35 36 37 38\n",
      " 39 40 41 42 43 44 45 46 47 48 49 50 51 52 53 54 55 56 57 58 59 60 61 62\n",
      " 63 64 65 66 67 68 69 70 71] Testing set: [ 0  1  2  3  4 21 22 23 24 25 26 27 28 29 30]\n",
      "Training set: [ 0  1  2  3  4  9 10 11 12 13 14 15 16 17 18 19 20 21 22 23 24 25 26 27\n",
      " 28 29 30 42 43 44 45 46 47 48 49 50 51 52 53 54 55 56 57 58 59 60 61 62\n",
      " 63 64 65 66 67 68 69 70 71] Testing set: [ 5  6  7  8 31 32 33 34 35 36 37 38 39 40 41]\n",
      "Training set: [ 0  1  2  3  4  5  6  7  8 13 14 15 16 17 18 19 20 21 22 23 24 25 26 27\n",
      " 28 29 30 31 32 33 34 35 36 37 38 39 40 41 52 53 54 55 56 57 58 59 60 61\n",
      " 62 63 64 65 66 67 68 69 70 71] Testing set: [ 9 10 11 12 42 43 44 45 46 47 48 49 50 51]\n",
      "Training set: [ 0  1  2  3  4  5  6  7  8  9 10 11 12 17 18 19 20 21 22 23 24 25 26 27\n",
      " 28 29 30 31 32 33 34 35 36 37 38 39 40 41 42 43 44 45 46 47 48 49 50 51\n",
      " 62 63 64 65 66 67 68 69 70 71] Testing set: [13 14 15 16 52 53 54 55 56 57 58 59 60 61]\n",
      "Training set: [ 0  1  2  3  4  5  6  7  8  9 10 11 12 13 14 15 16 21 22 23 24 25 26 27\n",
      " 28 29 30 31 32 33 34 35 36 37 38 39 40 41 42 43 44 45 46 47 48 49 50 51\n",
      " 52 53 54 55 56 57 58 59 60 61] Testing set: [17 18 19 20 62 63 64 65 66 67 68 69 70 71]\n"
     ]
    }
   ],
   "source": [
    "#Print the 5 different training and testing sets creates by the Stratified K-Folds cross-validator.\n",
    "for i, (train_index, val_index) in enumerate(SK.split(X, Y)):\n",
    "    print(\"Training set:\", train_index, \"Testing set:\", val_index)\n",
    "    X_train_SK, X_test_SK = X[train_index], X[val_index]\n",
    "    Y_train_SK, Y_test_SK = Y[train_index], Y[val_index]"
   ]
  },
  {
   "cell_type": "code",
   "execution_count": 26,
   "metadata": {},
   "outputs": [
    {
     "name": "stdout",
     "output_type": "stream",
     "text": [
      "X_train Shape: (58, 19)\n",
      "Y_train Shape: (58, 1)\n",
      "X_test Shape: (14, 19)\n",
      "Y_test Shape: (14, 1)\n"
     ]
    }
   ],
   "source": [
    "#Look at the shapes of your teating and training features and labels.\n",
    "print('X_train Shape:', X_train_SK.shape)\n",
    "print('Y_train Shape:', Y_train_SK.shape)\n",
    "print('X_test Shape:', X_test_SK.shape)\n",
    "print('Y_test Shape:', Y_test_SK.shape)"
   ]
  },
  {
   "cell_type": "code",
   "execution_count": 27,
   "metadata": {},
   "outputs": [],
   "source": [
    "#Use a for loop to create a list of decision tree classifiers all fitted to the training set that have varying n_estimators values \n",
    "from sklearn.ensemble import RandomForestClassifier\n",
    "\n",
    "trees = []\n",
    "for d in [61,62,63,64,65,66,67,68,69,70]:\n",
    "    trees.append(RandomForestClassifier(random_state=42, n_estimators=d).fit(X_train_SK, Y_train_SK.ravel()))"
   ]
  },
  {
   "cell_type": "code",
   "execution_count": 28,
   "metadata": {},
   "outputs": [
    {
     "name": "stdout",
     "output_type": "stream",
     "text": [
      "For number of estimators equal to 61\n",
      "\tAccuracy on training set: 1.0\n",
      "\tAccuracy on test set: 0.9285714285714286\n",
      "For number of estimators equal to 62\n",
      "\tAccuracy on training set: 1.0\n",
      "\tAccuracy on test set: 0.9285714285714286\n",
      "For number of estimators equal to 63\n",
      "\tAccuracy on training set: 1.0\n",
      "\tAccuracy on test set: 0.9285714285714286\n",
      "For number of estimators equal to 64\n",
      "\tAccuracy on training set: 1.0\n",
      "\tAccuracy on test set: 0.9285714285714286\n",
      "For number of estimators equal to 65\n",
      "\tAccuracy on training set: 1.0\n",
      "\tAccuracy on test set: 0.9285714285714286\n",
      "For number of estimators equal to 66\n",
      "\tAccuracy on training set: 1.0\n",
      "\tAccuracy on test set: 0.9285714285714286\n",
      "For number of estimators equal to 67\n",
      "\tAccuracy on training set: 1.0\n",
      "\tAccuracy on test set: 0.9285714285714286\n",
      "For number of estimators equal to 68\n",
      "\tAccuracy on training set: 1.0\n",
      "\tAccuracy on test set: 0.9285714285714286\n",
      "For number of estimators equal to 69\n",
      "\tAccuracy on training set: 1.0\n",
      "\tAccuracy on test set: 0.9285714285714286\n",
      "For number of estimators equal to 70\n",
      "\tAccuracy on training set: 1.0\n",
      "\tAccuracy on test set: 0.9285714285714286\n"
     ]
    }
   ],
   "source": [
    "#Use a function to look at the accuracy scores for the training and testing sets at each specific n_estimators value.\n",
    "from sklearn.ensemble import RandomForestClassifier\n",
    "\n",
    "def score(tree, X, Y):\n",
    "    return (tree.score(X, Y))\n",
    "for t in trees:\n",
    "    print(\"For number of estimators equal to {}\".format(t.get_params()[\"n_estimators\"]))\n",
    "    print(\"\\tAccuracy on training set: {}\".format(score(t, X_train_SK, Y_train_SK)))\n",
    "    print(\"\\tAccuracy on test set: {}\".format(score(t, X_test_SK, Y_test_SK)))"
   ]
  },
  {
   "cell_type": "code",
   "execution_count": 47,
   "metadata": {},
   "outputs": [],
   "source": [
    "#Use a for loop to create a list of decision tree classifiers all fitted to the training set that have varying max_depth values \n",
    "from sklearn.ensemble import RandomForestClassifier\n",
    "\n",
    "trees = []\n",
    "for d in [1,2,3,4,5,6]:\n",
    "    trees.append(RandomForestClassifier(random_state=42, n_estimators=64, max_depth=d).fit(X_train_SK, Y_train_SK.ravel()))"
   ]
  },
  {
   "cell_type": "code",
   "execution_count": 48,
   "metadata": {},
   "outputs": [
    {
     "name": "stdout",
     "output_type": "stream",
     "text": [
      "For max depth equal to 1\n",
      "\tAccuracy on training set: 0.8793103448275862\n",
      "\tAccuracy on test set: 0.8571428571428571\n",
      "For max depth equal to 2\n",
      "\tAccuracy on training set: 0.9482758620689655\n",
      "\tAccuracy on test set: 0.9285714285714286\n",
      "For max depth equal to 3\n",
      "\tAccuracy on training set: 0.9827586206896551\n",
      "\tAccuracy on test set: 0.9285714285714286\n",
      "For max depth equal to 4\n",
      "\tAccuracy on training set: 1.0\n",
      "\tAccuracy on test set: 0.9285714285714286\n",
      "For max depth equal to 5\n",
      "\tAccuracy on training set: 1.0\n",
      "\tAccuracy on test set: 0.9285714285714286\n",
      "For max depth equal to 6\n",
      "\tAccuracy on training set: 1.0\n",
      "\tAccuracy on test set: 0.9285714285714286\n"
     ]
    }
   ],
   "source": [
    "#Use a function to look at the accuracy scores for the training and testing sets at each specific max_depth value.\n",
    "from sklearn.ensemble import RandomForestClassifier\n",
    "\n",
    "def score(tree, X, Y):\n",
    "    return (tree.score(X, Y))\n",
    "for t in trees:\n",
    "    print(\"For max depth equal to {}\".format(t.get_params()[\"max_depth\"]))\n",
    "    print(\"\\tAccuracy on training set: {}\".format(score(t, X_train_SK, Y_train_SK)))\n",
    "    print(\"\\tAccuracy on test set: {}\".format(score(t, X_test_SK, Y_test_SK)))"
   ]
  },
  {
   "cell_type": "code",
   "execution_count": 49,
   "metadata": {},
   "outputs": [
    {
     "data": {
      "text/plain": [
       "RandomForestClassifier(max_depth=2, n_estimators=64, random_state=42)"
      ]
     },
     "execution_count": 49,
     "metadata": {},
     "output_type": "execute_result"
    }
   ],
   "source": [
    "#Use a random forest classifier with the ideal parameters to make the various decision trees.\n",
    "from sklearn.ensemble import RandomForestClassifier\n",
    "\n",
    "RF = RandomForestClassifier(n_estimators=64, max_depth=2, random_state=42)\n",
    "RF.fit(X_train, Y_train.ravel())"
   ]
  },
  {
   "cell_type": "code",
   "execution_count": 50,
   "metadata": {},
   "outputs": [
    {
     "data": {
      "text/plain": [
       "64"
      ]
     },
     "execution_count": 50,
     "metadata": {},
     "output_type": "execute_result"
    }
   ],
   "source": [
    "#Confirm the number of estimators used in the random forest.\n",
    "len(RF.estimators_)"
   ]
  },
  {
   "cell_type": "code",
   "execution_count": 51,
   "metadata": {},
   "outputs": [
    {
     "data": {
      "text/plain": [
       "2"
      ]
     },
     "execution_count": 51,
     "metadata": {},
     "output_type": "execute_result"
    }
   ],
   "source": [
    "#Confirm the max depth of the trees created in the random forest.\n",
    "RF.estimators_[0].tree_.max_depth"
   ]
  },
  {
   "cell_type": "code",
   "execution_count": 52,
   "metadata": {},
   "outputs": [
    {
     "data": {
      "text/plain": [
       "array([0])"
      ]
     },
     "execution_count": 52,
     "metadata": {},
     "output_type": "execute_result"
    }
   ],
   "source": [
    "#Predict whether or not a patient will develop cervical cancer according to their behavior scores.\n",
    "RF.predict([[1,2,3,4,5,6,7,8,9,10,11,12,13,14,15,1,2,3,4]])"
   ]
  },
  {
   "cell_type": "code",
   "execution_count": 53,
   "metadata": {},
   "outputs": [
    {
     "name": "stdout",
     "output_type": "stream",
     "text": [
      "Feature: empowerment_abilities         Importance: 0.145\n",
      "Feature: motivation_strength          Importance: 0.112\n",
      "Feature: behavior_personalHygine         Importance: 0.109\n",
      "Feature: empowerment_knowledge         Importance: 0.102\n",
      "Feature: perception_vulnerability         Importance: 0.09\n",
      "Feature: motivation_willingness         Importance: 0.084\n",
      "Feature: norm_fulfillment             Importance: 0.069\n",
      "Feature: perception_severity          Importance: 0.064\n",
      "Feature: behavior_sexualRisk          Importance: 0.058\n",
      "Feature: empowerment_desires          Importance: 0.05\n",
      "Feature: intention_commitment         Importance: 0.032\n",
      "Feature: intention_aggregation         Importance: 0.023\n",
      "Feature: socialSupport_instrumental         Importance: 0.016\n",
      "Feature: socialSupport_appreciation         Importance: 0.014\n",
      "Feature: behavior_eating              Importance: 0.011\n",
      "Feature: attitude_consistency         Importance: 0.01\n",
      "Feature: attitude_spontaneity         Importance: 0.007\n",
      "Feature: socialSupport_emotionality         Importance: 0.003\n",
      "Feature: norm_significantPerson         Importance: 0.0\n"
     ]
    }
   ],
   "source": [
    "#Find the most important features from the dataset.\n",
    "importances = list(RF.feature_importances_)\n",
    "\n",
    "# List of tuples with each specific feature and its importance.\n",
    "featureimportance = [(feature, round(importance, 3)) for feature, importance in zip(Y, importances)]\n",
    "\n",
    "# Sort the output so that it is in order from most important to least important feature. \n",
    "featureimportance = sorted(featureimportance, key = lambda x: x[1], reverse = True)\n",
    "\n",
    "# Print a list of each feature and its importance. \n",
    "[print('Feature: {:20}         Importance: {}'.format(*pair)) for pair in featureimportance];"
   ]
  },
  {
   "cell_type": "code",
   "execution_count": 149,
   "metadata": {},
   "outputs": [
    {
     "data": {
      "image/png": "[encoded data removed]",
      "text/plain": [
       "<Figure size 432x288 with 1 Axes>"
      ]
     },
     "metadata": {
      "needs_background": "light"
     },
     "output_type": "display_data"
    }
   ],
   "source": [
    "#Develop a bar graph that visualizes the features and their importance.\n",
    "from matplotlib import pyplot as plt\n",
    "\n",
    "# Define the x-values that are being plotted.\n",
    "x_values = list(range(len(importances)))\n",
    "\n",
    "# Create a bar graph.\n",
    "plt.bar(x_values, importances, orientation = 'vertical', color = 'lightskyblue', edgecolor = 'k', linewidth = 1.5)\n",
    "\n",
    "# Define the labels for the x-axis. \n",
    "plt.xticks(x_values, Y, rotation='vertical')\n",
    "\n",
    "# Define the labels for the x and y axis and title the bar graph.\n",
    "plt.ylabel('Feature Importance'); plt.xlabel('Feature'); plt.title('Most Important Features for Cervical Cancer');\n",
    "\n",
    "#Save graph as a png file to my desktop.\n",
    "plt.savefig('Desktop/FeatureImportance.png', bbox_inches='tight')"
   ]
  },
  {
   "cell_type": "code",
   "execution_count": 150,
   "metadata": {},
   "outputs": [
    {
     "data": {
      "image/png": "[encoded data removed]",
      "text/plain": [
       "<Figure size 432x288 with 1 Axes>"
      ]
     },
     "metadata": {
      "needs_background": "light"
     },
     "output_type": "display_data"
    }
   ],
   "source": [
    "#Plot the individual trees that were constructed in the random forest. Save tree to desktop as a png.\n",
    "from sklearn.tree import plot_tree\n",
    "\n",
    "RFtree = RF.estimators_[0]\n",
    "plt.figure()\n",
    "plot_tree(RFtree, feature_names= featureimportance, class_names= True,  fontsize=7.75, filled=True)\n",
    "plt.savefig('Desktop/RFTree.png',format='png',bbox_inches = \"tight\")"
   ]
  },
  {
   "cell_type": "code",
   "execution_count": null,
   "metadata": {},
   "outputs": [],
   "source": []
  }
 ],
 "metadata": {
  "kernelspec": {
   "display_name": "Python 3",
   "language": "python",
   "name": "python3"
  },
  "language_info": {
   "codemirror_mode": {
    "name": "ipython",
    "version": 3
   },
   "file_extension": ".py",
   "mimetype": "text/x-python",
   "name": "python",
   "nbconvert_exporter": "python",
   "pygments_lexer": "ipython3",
   "version": "3.8.3"
  }
 },
 "nbformat": 4,
 "nbformat_minor": 4
}
